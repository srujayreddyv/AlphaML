{
  "nbformat": 4,
  "nbformat_minor": 0,
  "metadata": {
    "colab": {
      "provenance": [],
      "authorship_tag": "ABX9TyM661Als/HdoYElaZvZVHQv",
      "include_colab_link": true
    },
    "kernelspec": {
      "name": "python3",
      "display_name": "Python 3"
    },
    "language_info": {
      "name": "python"
    }
  },
  "cells": [
    {
      "cell_type": "markdown",
      "metadata": {
        "id": "view-in-github",
        "colab_type": "text"
      },
      "source": [
        "<a href=\"https://colab.research.google.com/github/srujayreddyv/AlphaML/blob/main/0PythonBasics.ipynb\" target=\"_parent\"><img src=\"https://colab.research.google.com/assets/colab-badge.svg\" alt=\"Open In Colab\"/></a>"
      ]
    },
    {
      "cell_type": "markdown",
      "source": [
        "#Python Basics\n",
        "https://www.w3schools.com/python/\n"
      ],
      "metadata": {
        "id": "Q3o9lTYOkZb0"
      }
    },
    {
      "cell_type": "markdown",
      "source": [
        "##Printing and Variables"
      ],
      "metadata": {
        "id": "BFnBTehJkhk6"
      }
    },
    {
      "cell_type": "code",
      "source": [
        "print(\"hello world\")"
      ],
      "metadata": {
        "colab": {
          "base_uri": "https://localhost:8080/"
        },
        "id": "-HY03vJekhur",
        "outputId": "1c6ae970-1db9-4e93-ece0-ec095d8f18d1"
      },
      "execution_count": null,
      "outputs": [
        {
          "output_type": "stream",
          "name": "stdout",
          "text": [
            "hello world\n"
          ]
        }
      ]
    },
    {
      "cell_type": "code",
      "source": [
        "#variables\n",
        "'''this is comment '''\n",
        "\n",
        "a_int = 2\n",
        "b_float = 3.5\n",
        "c_bool = True\n",
        "aa = \"hello\"\n",
        "\n",
        "print(\"variables:\", a_int, b_float, c_bool, aa)"
      ],
      "metadata": {
        "colab": {
          "base_uri": "https://localhost:8080/"
        },
        "id": "xrNP0Sekkyfm",
        "outputId": "13504b6d-e69b-409c-99af-9d72a038f5f2"
      },
      "execution_count": null,
      "outputs": [
        {
          "output_type": "stream",
          "name": "stdout",
          "text": [
            "variables: 2 3.5 True hello\n"
          ]
        }
      ]
    },
    {
      "cell_type": "code",
      "source": [
        "#type casting\n",
        "print(\"earlier type:\", type(a_int))\n",
        "a_int = str(a_int)\n",
        "\n",
        "print(\"new type:\", type(a_int))"
      ],
      "metadata": {
        "colab": {
          "base_uri": "https://localhost:8080/"
        },
        "id": "LqcitWEKkzFI",
        "outputId": "6baf59ad-fc77-4fd7-898f-8aab0c52efb7"
      },
      "execution_count": null,
      "outputs": [
        {
          "output_type": "stream",
          "name": "stdout",
          "text": [
            "earlier type: <class 'int'>\n",
            "new type: <class 'str'>\n"
          ]
        }
      ]
    },
    {
      "cell_type": "code",
      "source": [
        "x = str(3)\n",
        "y = int(3)\n",
        "z = float(3)"
      ],
      "metadata": {
        "id": "NtLYbJ-AmpMo"
      },
      "execution_count": null,
      "outputs": []
    },
    {
      "cell_type": "code",
      "source": [
        "print(b_float)\n",
        "b = 'interesting'\n",
        "print(b)"
      ],
      "metadata": {
        "id": "uX0P-mGBmpfK"
      },
      "execution_count": null,
      "outputs": []
    },
    {
      "cell_type": "code",
      "source": [],
      "metadata": {
        "id": "ndAduONHIuDz"
      },
      "execution_count": null,
      "outputs": []
    },
    {
      "cell_type": "markdown",
      "source": [
        "##Indentation"
      ],
      "metadata": {
        "id": "ehF9oZrjnjei"
      }
    },
    {
      "cell_type": "code",
      "source": [
        "#build a calculator\n",
        "#input: x, y, operations (*, +, -)\n",
        "#output: number or invalid\n",
        "\n",
        "x = input(\"first number:\")\n",
        "y = input(\"second number:\")\n",
        "op = input(\"pick operation: *, +, -\")\n"
      ],
      "metadata": {
        "colab": {
          "base_uri": "https://localhost:8080/"
        },
        "id": "UgaQmoNGnofO",
        "outputId": "97c6d237-506b-4f45-a0c3-9669f67ae314"
      },
      "execution_count": null,
      "outputs": [
        {
          "name": "stdout",
          "output_type": "stream",
          "text": [
            "first number:4\n",
            "second number:5\n",
            "pick operation: *, +, -*\n"
          ]
        }
      ]
    },
    {
      "cell_type": "code",
      "source": [
        "print(type(x))"
      ],
      "metadata": {
        "colab": {
          "base_uri": "https://localhost:8080/"
        },
        "id": "10692YC8oJZy",
        "outputId": "0a5d7dcc-4b61-4647-a250-a1abd4731ebe"
      },
      "execution_count": null,
      "outputs": [
        {
          "output_type": "stream",
          "name": "stdout",
          "text": [
            "<class 'str'>\n"
          ]
        }
      ]
    },
    {
      "cell_type": "code",
      "source": [
        "x = int(x)\n",
        "y = int(y)\n",
        "print(type(x), type(y))"
      ],
      "metadata": {
        "colab": {
          "base_uri": "https://localhost:8080/"
        },
        "id": "GUz34FDLoa_K",
        "outputId": "4cb245ab-435e-49b9-9c4b-cf5ea6aeed4b"
      },
      "execution_count": null,
      "outputs": [
        {
          "output_type": "stream",
          "name": "stdout",
          "text": [
            "<class 'int'> <class 'int'>\n"
          ]
        }
      ]
    },
    {
      "cell_type": "code",
      "source": [
        "if op == '*':\n",
        "  result = x*y;\n",
        "\n",
        "elif op == '+':\n",
        "  result = x+y;\n",
        "\n",
        "elif op == '-':\n",
        "  result = x-y;\n",
        "\n",
        "else:\n",
        "  result = \"invalid\";"
      ],
      "metadata": {
        "id": "MeFNRepZoia9"
      },
      "execution_count": null,
      "outputs": []
    },
    {
      "cell_type": "code",
      "source": [
        "print(\"result:\", result)"
      ],
      "metadata": {
        "colab": {
          "base_uri": "https://localhost:8080/"
        },
        "id": "GjpysPUlqRkq",
        "outputId": "59d39c6d-3750-4074-a8ec-2451480ac87c"
      },
      "execution_count": null,
      "outputs": [
        {
          "output_type": "stream",
          "name": "stdout",
          "text": [
            "result: 20\n"
          ]
        }
      ]
    },
    {
      "cell_type": "markdown",
      "source": [
        "##Looping\n"
      ],
      "metadata": {
        "id": "ypUT9GqFrcM5"
      }
    },
    {
      "cell_type": "code",
      "source": [
        "#print all even numbers under 30\n",
        "#0-index\n",
        "# %\n",
        "#range(10) : 0to9\n",
        "#range(2, 10)\n",
        "\n",
        "for i in range(30):\n",
        "  if i % 2 == 0:\n",
        "    print(i)\n"
      ],
      "metadata": {
        "id": "4ri11twhrEHS",
        "colab": {
          "base_uri": "https://localhost:8080/"
        },
        "outputId": "53592427-7eec-44ff-83f7-0ef6792c24d8"
      },
      "execution_count": null,
      "outputs": [
        {
          "output_type": "stream",
          "name": "stdout",
          "text": [
            "0\n",
            "2\n",
            "4\n",
            "6\n",
            "8\n",
            "10\n",
            "12\n",
            "14\n",
            "16\n",
            "18\n",
            "20\n",
            "22\n",
            "24\n",
            "26\n",
            "28\n"
          ]
        }
      ]
    },
    {
      "cell_type": "markdown",
      "source": [
        "##Operators"
      ],
      "metadata": {
        "id": "E5dZO-bbto8u"
      }
    },
    {
      "cell_type": "code",
      "source": [
        "# +, -, *, %, /, **, //\n",
        "# >, <, ==, >=, <=, !=\n",
        "# and, or, not"
      ],
      "metadata": {
        "id": "UoHpPF7Ntqnb"
      },
      "execution_count": null,
      "outputs": []
    },
    {
      "cell_type": "code",
      "source": [
        "x = 2\n",
        "print(x)\n",
        "x = x + 5\n",
        "print(x)"
      ],
      "metadata": {
        "colab": {
          "base_uri": "https://localhost:8080/"
        },
        "id": "m7lQfLTEuRUm",
        "outputId": "1bcc0975-c38b-4305-b328-602b639ddcda"
      },
      "execution_count": null,
      "outputs": [
        {
          "output_type": "stream",
          "name": "stdout",
          "text": [
            "2\n",
            "7\n"
          ]
        }
      ]
    },
    {
      "cell_type": "markdown",
      "source": [
        "##Data Structures"
      ],
      "metadata": {
        "id": "bgN5X_Ouuv6t"
      }
    },
    {
      "cell_type": "code",
      "source": [
        "#list\n",
        "l1 = [1, 4, 5, 7]\n",
        "l2 = [1, 'app', True, 5.7]\n"
      ],
      "metadata": {
        "id": "OYbJ8M_Auuxp"
      },
      "execution_count": null,
      "outputs": []
    },
    {
      "cell_type": "code",
      "source": [
        "#iterate\n",
        "for i in l2:\n",
        "  print(i)"
      ],
      "metadata": {
        "colab": {
          "base_uri": "https://localhost:8080/"
        },
        "id": "KvF70KDXubgF",
        "outputId": "9b94ea4b-ae69-48a4-850e-3181eb4791a8"
      },
      "execution_count": null,
      "outputs": [
        {
          "output_type": "stream",
          "name": "stdout",
          "text": [
            "1\n",
            "app\n",
            "True\n",
            "5.7\n"
          ]
        }
      ]
    },
    {
      "cell_type": "code",
      "source": [
        "l2[0] = \"meow\"\n",
        "print(l2)"
      ],
      "metadata": {
        "colab": {
          "base_uri": "https://localhost:8080/"
        },
        "id": "aL-tBDypvnFE",
        "outputId": "018fee95-5014-45fd-bff1-b58eb0ab7c35"
      },
      "execution_count": null,
      "outputs": [
        {
          "output_type": "stream",
          "name": "stdout",
          "text": [
            "['meow', 'app', True, 5.7]\n"
          ]
        }
      ]
    },
    {
      "cell_type": "code",
      "source": [
        "#append\n",
        "l2.append(22)\n",
        "print(l2)\n"
      ],
      "metadata": {
        "id": "YVRE2ftAvsLI",
        "colab": {
          "base_uri": "https://localhost:8080/"
        },
        "outputId": "face647b-69df-4dfd-c15e-a043528c9ff9"
      },
      "execution_count": 39,
      "outputs": [
        {
          "output_type": "stream",
          "name": "stdout",
          "text": [
            "['meow', 'app', True, 5.7, 22]\n"
          ]
        }
      ]
    },
    {
      "cell_type": "code",
      "source": [
        "#sort\n",
        "l1.sort()\n",
        "print(l2)"
      ],
      "metadata": {
        "colab": {
          "base_uri": "https://localhost:8080/"
        },
        "id": "ATkvog4rG3CX",
        "outputId": "bd58acd4-b414-4aa3-a02e-cf1586a90f47"
      },
      "execution_count": 41,
      "outputs": [
        {
          "output_type": "stream",
          "name": "stdout",
          "text": [
            "['meow', 'app', True, 5.7, 22]\n"
          ]
        }
      ]
    },
    {
      "cell_type": "code",
      "source": [
        "#strings\n",
        "te = \"hello\"\n",
        "tes = '''111111\n",
        "22334\n",
        "33\n",
        "444 '''\n",
        "print(tes)"
      ],
      "metadata": {
        "colab": {
          "base_uri": "https://localhost:8080/"
        },
        "id": "myLmATRhHDsi",
        "outputId": "1374b21d-77a0-4867-af07-e163d3359f60"
      },
      "execution_count": 42,
      "outputs": [
        {
          "output_type": "stream",
          "name": "stdout",
          "text": [
            "111111\n",
            "22334\n",
            "33\n",
            "444 \n"
          ]
        }
      ]
    },
    {
      "cell_type": "code",
      "source": [
        "for i in te:\n",
        "  print(i)"
      ],
      "metadata": {
        "colab": {
          "base_uri": "https://localhost:8080/"
        },
        "id": "oYjoH-WrHDuA",
        "outputId": "c728ab44-6704-4673-8419-9e273bbf88fc"
      },
      "execution_count": 43,
      "outputs": [
        {
          "output_type": "stream",
          "name": "stdout",
          "text": [
            "h\n",
            "e\n",
            "l\n",
            "l\n",
            "o\n"
          ]
        }
      ]
    },
    {
      "cell_type": "code",
      "source": [
        "#slicing\n",
        "\n",
        "print(te[1:3])"
      ],
      "metadata": {
        "colab": {
          "base_uri": "https://localhost:8080/"
        },
        "id": "p3olbWEnHkeI",
        "outputId": "e20270c8-2808-4be8-fc81-2fcd9957fa01"
      },
      "execution_count": 44,
      "outputs": [
        {
          "output_type": "stream",
          "name": "stdout",
          "text": [
            "el\n"
          ]
        }
      ]
    },
    {
      "cell_type": "code",
      "source": [
        "#concat\n",
        "f = \"hello\"\n",
        "l = \"srujay\"\n",
        "\n",
        "n = f + ' ' + l\n",
        "print(n)"
      ],
      "metadata": {
        "colab": {
          "base_uri": "https://localhost:8080/"
        },
        "id": "3aW6n9_bHkgM",
        "outputId": "45655790-3c7b-4f7c-db13-92e3bf72d8f7"
      },
      "execution_count": 46,
      "outputs": [
        {
          "output_type": "stream",
          "name": "stdout",
          "text": [
            "hello srujay\n"
          ]
        }
      ]
    },
    {
      "cell_type": "code",
      "source": [
        "#dictionary- key, value\n",
        "\n",
        "dic = {\n",
        "    \"hello\" : [4, 7, 8],\n",
        "    \"srujay\" : [2, 3, 4]\n",
        "}\n",
        "\n",
        "print(dic)"
      ],
      "metadata": {
        "colab": {
          "base_uri": "https://localhost:8080/"
        },
        "id": "M2BKgrmMIwIH",
        "outputId": "5429867c-93c0-450f-97c2-baf21e241c45"
      },
      "execution_count": 47,
      "outputs": [
        {
          "output_type": "stream",
          "name": "stdout",
          "text": [
            "{'hello': [4, 7, 8], 'srujay': [2, 3, 4]}\n"
          ]
        }
      ]
    },
    {
      "cell_type": "code",
      "source": [
        "print(dic[\"hello\"])"
      ],
      "metadata": {
        "colab": {
          "base_uri": "https://localhost:8080/"
        },
        "id": "f1IKWeNJJWdS",
        "outputId": "1efa3ff0-e519-4885-84fb-1279d43ca53e"
      },
      "execution_count": 49,
      "outputs": [
        {
          "output_type": "stream",
          "name": "stdout",
          "text": [
            "[4, 7, 8]\n"
          ]
        }
      ]
    },
    {
      "cell_type": "code",
      "source": [],
      "metadata": {
        "id": "POTdRsqjJbQC"
      },
      "execution_count": null,
      "outputs": []
    },
    {
      "cell_type": "markdown",
      "source": [
        "##*Functions*"
      ],
      "metadata": {
        "id": "CBy1fYR2Jglm"
      }
    },
    {
      "cell_type": "code",
      "source": [
        "def calc(a, b, op): #defalut paramenter op = \"add\"\n",
        "  if op == \"add\":\n",
        "    output = a + b\n",
        "  else:\n",
        "    output = \"invalid\"\n",
        "  return output\n"
      ],
      "metadata": {
        "id": "ticcDUP4JifZ"
      },
      "execution_count": 5,
      "outputs": []
    },
    {
      "cell_type": "code",
      "source": [
        "calc(3, 4, 'add')"
      ],
      "metadata": {
        "colab": {
          "base_uri": "https://localhost:8080/"
        },
        "id": "iESi5f9NJi3F",
        "outputId": "7d29b2f6-dbb1-44a6-c857-c2e5ce362f66"
      },
      "execution_count": 4,
      "outputs": [
        {
          "output_type": "execute_result",
          "data": {
            "text/plain": [
              "7"
            ]
          },
          "metadata": {},
          "execution_count": 4
        }
      ]
    },
    {
      "cell_type": "code",
      "source": [
        "def add(x, y, c):\n",
        "  pass"
      ],
      "metadata": {
        "id": "x4rzAxzY6I4x"
      },
      "execution_count": 5,
      "outputs": []
    },
    {
      "cell_type": "markdown",
      "source": [
        "##Modules"
      ],
      "metadata": {
        "id": "yMEmFR8j6ZXJ"
      }
    },
    {
      "cell_type": "code",
      "source": [
        "import numpy as np\n",
        "import matplotlib.pyplot as plt\n"
      ],
      "metadata": {
        "id": "PVtJrBhb6b4o"
      },
      "execution_count": 9,
      "outputs": []
    },
    {
      "cell_type": "code",
      "source": [
        "x = np.array([0, 2, 4])\n",
        "y = np.array([4, 7, 9])\n",
        "\n",
        "plt.subplot(1, 2, 1)\n",
        "plt.plot(x, y)\n",
        "\n",
        "x = np.array([4, 21, 13])\n",
        "y = np.array([2, 4, -1])\n",
        "\n",
        "plt.subplot(1, 2, 2)\n",
        "plt.plot(x, y)\n",
        "\n",
        "plt.show()"
      ],
      "metadata": {
        "colab": {
          "base_uri": "https://localhost:8080/",
          "height": 430
        },
        "id": "eKZ-8WWk6rpH",
        "outputId": "ab3b4f8f-37f9-4f48-d522-161df55fe1e7"
      },
      "execution_count": 11,
      "outputs": [
        {
          "output_type": "display_data",
          "data": {
            "text/plain": [
              "<Figure size 640x480 with 2 Axes>"
            ],
            "image/png": "[encoded data removed]"
          },
          "metadata": {}
        }
      ]
    },
    {
      "cell_type": "markdown",
      "source": [
        "##File Handling"
      ],
      "metadata": {
        "id": "7VdRynkn8Tg0"
      }
    },
    {
      "cell_type": "code",
      "source": [],
      "metadata": {
        "id": "Qa879l3u8XAJ"
      },
      "execution_count": null,
      "outputs": []
    },
    {
      "cell_type": "markdown",
      "source": [
        "##Pandas"
      ],
      "metadata": {
        "id": "W2VZQkUb8XXH"
      }
    },
    {
      "cell_type": "code",
      "source": [],
      "metadata": {
        "id": "sTIq0Q978ZcZ"
      },
      "execution_count": null,
      "outputs": []
    },
    {
      "cell_type": "markdown",
      "source": [
        "##Numpy"
      ],
      "metadata": {
        "id": "AjcTtKqe8Znz"
      }
    },
    {
      "cell_type": "code",
      "source": [],
      "metadata": {
        "id": "PhhTgI5b8cM8"
      },
      "execution_count": null,
      "outputs": []
    },
    {
      "cell_type": "markdown",
      "source": [
        "##Matplotlib"
      ],
      "metadata": {
        "id": "TZykn3-T8cZ5"
      }
    },
    {
      "cell_type": "code",
      "source": [],
      "metadata": {
        "id": "bvDssvPq8eex"
      },
      "execution_count": null,
      "outputs": []
    },
    {
      "cell_type": "markdown",
      "source": [
        "##Scipy"
      ],
      "metadata": {
        "id": "WqEnAAaD8es3"
      }
    },
    {
      "cell_type": "code",
      "source": [],
      "metadata": {
        "id": "uK3cet8w8oxg"
      },
      "execution_count": null,
      "outputs": []
    }
  ]
}